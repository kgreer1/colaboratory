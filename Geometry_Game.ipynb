{
  "nbformat": 4,
  "nbformat_minor": 0,
  "metadata": {
    "colab": {
      "name": "Geometry Game",
      "provenance": [],
      "collapsed_sections": [],
      "authorship_tag": "ABX9TyN8oYrfOqfVDJkqHC8D27NR",
      "include_colab_link": true
    },
    "kernelspec": {
      "name": "python3",
      "display_name": "Python 3"
    },
    "language_info": {
      "name": "python"
    }
  },
  "cells": [
    {
      "cell_type": "markdown",
      "metadata": {
        "id": "view-in-github",
        "colab_type": "text"
      },
      "source": [
        "<a href=\"https://colab.research.google.com/github/kgreer1/colaboratory/blob/main/Geometry_Game.ipynb\" target=\"_parent\"><img src=\"https://colab.research.google.com/assets/colab-badge.svg\" alt=\"Open In Colab\"/></a>"
      ]
    },
    {
      "cell_type": "markdown",
      "metadata": {
        "id": "WGkENfXqYzN0"
      },
      "source": [
        "#Geometry Game"
      ]
    },
    {
      "cell_type": "markdown",
      "metadata": {
        "id": "4HO5AhxhYV4l"
      },
      "source": [
        "##Development Steps \n",
        "*for the object oriented approach*\n",
        "1. write down objects on paper\n",
        "1. create a class for each object\n",
        "1. write methods for each class\n",
        "1. call classes and their methods"
      ]
    },
    {
      "cell_type": "markdown",
      "metadata": {
        "id": "uKo_DNr4lhXY"
      },
      "source": [
        "##Software Development Principles\n",
        "* a class should have only one responsibility (avoid writing classes that do a lot of work)\n",
        "* *self* in a class is a variable that holds the object instance that is being created. \n",
        "self can be called anything: \"this\" or \"this_object\" but is used as best practice"
      ]
    },
    {
      "cell_type": "code",
      "metadata": {
        "id": "9pZ720BDYpde"
      },
      "source": [
        "#create a class for Point\n",
        "\n",
        "class Point:\n",
        "  \n",
        "  #constructor holds minimum parameters required for object instantiation\n",
        "  def __init__(self, x, y):\n",
        "    #object attribute 'x' is equal to x\n",
        "    self.x = x\n",
        "    #object attribute 'y' is equal to y\n",
        "    self.y = y\n",
        "\n",
        "  #method determines if a point falls within a given rectangle\n",
        "  def falls_in_rectangle(self, rectangle):\n",
        "    if rectangle.point1.x < self.x < rectangle.point2.x \\\n",
        "    and rectangle.point1.y < self.y < rectangle.point2.y:\n",
        "      return True\n",
        "    else:\n",
        "      return False\n",
        "\n",
        "  #method calculates the distance from the coordinates of current point\n",
        "  #to any other given point\n",
        "  def calculate_distance(self, point):\n",
        "    #d = sqrt((x2-x1)^2 + (y2-y1)^2)\n",
        "    distance = math.sqrt((self.x - point.x)**2 + (self.y - point.y)**2)\n",
        "    return distance"
      ],
      "execution_count": null,
      "outputs": []
    },
    {
      "cell_type": "code",
      "metadata": {
        "id": "nCOMvNkNZxTu"
      },
      "source": [
        "#create a point object from Point class\n",
        "point1 = Point(10,20)"
      ],
      "execution_count": null,
      "outputs": []
    },
    {
      "cell_type": "code",
      "metadata": {
        "colab": {
          "base_uri": "https://localhost:8080/"
        },
        "id": "Y3qLSKMxZ1Q5",
        "outputId": "e5e463c0-6660-4a30-fc1a-17ff1436a5e1"
      },
      "source": [
        "#check type of point1\n",
        "type(point1)"
      ],
      "execution_count": null,
      "outputs": [
        {
          "output_type": "execute_result",
          "data": {
            "text/plain": [
              "__main__.Point"
            ]
          },
          "metadata": {},
          "execution_count": 117
        }
      ]
    },
    {
      "cell_type": "code",
      "metadata": {
        "colab": {
          "base_uri": "https://localhost:8080/"
        },
        "id": "5Yyttf1SaH3_",
        "outputId": "0ec4eeda-3569-4c52-882a-738f47cd78d9"
      },
      "source": [
        "print(point1.x, point1.y)\n",
        "print(\"Point 1: (\" + str(point1.x) + \", \" + str(point1.y) + \")\")"
      ],
      "execution_count": null,
      "outputs": [
        {
          "output_type": "stream",
          "name": "stdout",
          "text": [
            "10 20\n",
            "Point 1: (10, 20)\n"
          ]
        }
      ]
    },
    {
      "cell_type": "code",
      "metadata": {
        "id": "_uWhhVO_exbQ"
      },
      "source": [
        "#check if point1 falls in a given rectangle\n",
        "#point1.falls_in_rectangle((5, 10), (25, 30))"
      ],
      "execution_count": null,
      "outputs": []
    },
    {
      "cell_type": "code",
      "metadata": {
        "id": "i0EXk-PNgizQ"
      },
      "source": [
        "#Point(3, 4).falls_in_rectangle((1, 1), (6, 6))"
      ],
      "execution_count": null,
      "outputs": []
    },
    {
      "cell_type": "code",
      "metadata": {
        "colab": {
          "base_uri": "https://localhost:8080/"
        },
        "id": "VTiq6pgqhGvU",
        "outputId": "80e00e2a-8568-4d4c-e8df-7f405796b639"
      },
      "source": [
        "import math\n",
        "#Point(1, 1).calculate_distance(3, 3)\n",
        "point2 = Point(1, 1)\n",
        "point3 = Point(2, 2)\n",
        "point2.calculate_distance(point3)"
      ],
      "execution_count": null,
      "outputs": [
        {
          "output_type": "execute_result",
          "data": {
            "text/plain": [
              "1.4142135623730951"
            ]
          },
          "metadata": {},
          "execution_count": 121
        }
      ]
    },
    {
      "cell_type": "code",
      "metadata": {
        "id": "ltpc8h0DjLFY"
      },
      "source": [
        "#create class for Rectangle\n",
        "class Rectangle:\n",
        "\n",
        "  def __init__(self, point1, point2):\n",
        "    self.point1 = point1\n",
        "    self.point2 = point2\n",
        "\n",
        "  #method calculates the area of a rectangle\n",
        "  def calculate_area(self):\n",
        "    #a=w*l\n",
        "    w = self.point2.x - self.point1.x\n",
        "    l = self.point2.y - self.point1.y\n",
        "    area = w * l\n",
        "    return area\n"
      ],
      "execution_count": null,
      "outputs": []
    },
    {
      "cell_type": "code",
      "metadata": {
        "id": "tgs8e3E0nTbP"
      },
      "source": [
        "pointx = Point(6, 7)\n",
        "rectanglex = Rectangle(Point(5, 6), Point(7, 9))"
      ],
      "execution_count": null,
      "outputs": []
    },
    {
      "cell_type": "code",
      "metadata": {
        "colab": {
          "base_uri": "https://localhost:8080/"
        },
        "id": "roJNo7jTnhp8",
        "outputId": "7d1a2d81-56af-4223-ba33-d464c9f625dd"
      },
      "source": [
        "pointx.falls_in_rectangle(rectanglex)"
      ],
      "execution_count": null,
      "outputs": [
        {
          "output_type": "execute_result",
          "data": {
            "text/plain": [
              "True"
            ]
          },
          "metadata": {},
          "execution_count": 124
        }
      ]
    },
    {
      "cell_type": "code",
      "metadata": {
        "colab": {
          "base_uri": "https://localhost:8080/"
        },
        "id": "iiK5iq6wnqOi",
        "outputId": "924327cc-2a91-4e7c-f882-3082ff1b5fe7"
      },
      "source": [
        "from random import randint\n",
        "\n",
        "my_rectangle = Rectangle(\n",
        "    Point(randint(0, 9), randint(0, 9)),\n",
        "    Point(randint(10, 19), randint(10, 19)))\n",
        "\n",
        "print(\"Rectangle Coordinates: (\",\n",
        "      my_rectangle.point1.x, \",\",\n",
        "      my_rectangle.point1.y, \") and (\",\n",
        "      my_rectangle.point2.x, \",\",\n",
        "      my_rectangle.point2.y, \")\")\n",
        "\n",
        "user_point = Point(int(input(\"Guess X: \")), \n",
        "                   int(input(\"Guess Y: \")))\n",
        "\n",
        "print(\"Your point is inside the rectangle: \",\n",
        "      user_point.falls_in_rectangle(my_rectangle))\n",
        "\n"
      ],
      "execution_count": null,
      "outputs": [
        {
          "output_type": "stream",
          "name": "stdout",
          "text": [
            "Rectangle Coordinates: ( 0 , 9 ) and ( 14 , 16 )\n",
            "Guess X: 1\n",
            "Guess Y: 4\n",
            "Your point is inside the rectangle:  False\n"
          ]
        }
      ]
    },
    {
      "cell_type": "code",
      "metadata": {
        "colab": {
          "base_uri": "https://localhost:8080/"
        },
        "id": "J6aFGT86r0ka",
        "outputId": "a4e36618-5705-436b-d368-f853e64026b7"
      },
      "source": [
        "user_area_guess = int(input(\"What is the area of the rectangle? \"))\n",
        "\n",
        "print(\"Area of Rectangle is: \", my_rectangle.calculate_area())\n",
        "print(\"Your answer was off by \", my_rectangle.calculate_area() - user_area_guess)"
      ],
      "execution_count": null,
      "outputs": [
        {
          "output_type": "stream",
          "name": "stdout",
          "text": [
            "What is the area of the rectangle? 10\n",
            "Area of Rectangle is:  98\n",
            "Your answer was off by  88\n"
          ]
        }
      ]
    },
    {
      "cell_type": "code",
      "metadata": {
        "id": "dtudFC-XvOyl"
      },
      "source": [
        ""
      ],
      "execution_count": null,
      "outputs": []
    }
  ]
}